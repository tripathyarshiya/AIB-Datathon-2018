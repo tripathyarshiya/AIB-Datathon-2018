{
 "cells": [
  {
   "cell_type": "markdown",
   "metadata": {},
   "source": [
    "### Language Detection with the training data and set intersection\n",
    "#### Accuracy - 0.92"
   ]
  },
  {
   "cell_type": "code",
   "execution_count": 1,
   "metadata": {},
   "outputs": [],
   "source": [
    "import numpy as np\n",
    "import re\n",
    "import pandas as pd\n",
    "from nltk import wordpunct_tokenize\n",
    "import string"
   ]
  },
  {
   "cell_type": "code",
   "execution_count": 2,
   "metadata": {},
   "outputs": [],
   "source": [
    "pd.set_option('display.max_columns', None)"
   ]
  },
  {
   "cell_type": "code",
   "execution_count": 3,
   "metadata": {},
   "outputs": [],
   "source": [
    "train_data = pd.read_csv(\"C:/path_for_train_dataset/dataset1.csv\",skipinitialspace=True)\n",
    "test_data = pd.read_csv(\"C:/path_for_test_dataset/dataset1_final_eval.csv\",skipinitialspace=True)"
   ]
  },
  {
   "cell_type": "code",
   "execution_count": 4,
   "metadata": {},
   "outputs": [
    {
     "data": {
      "text/html": [
       "<div>\n",
       "<style scoped>\n",
       "    .dataframe tbody tr th:only-of-type {\n",
       "        vertical-align: middle;\n",
       "    }\n",
       "\n",
       "    .dataframe tbody tr th {\n",
       "        vertical-align: top;\n",
       "    }\n",
       "\n",
       "    .dataframe thead th {\n",
       "        text-align: right;\n",
       "    }\n",
       "</style>\n",
       "<table border=\"1\" class=\"dataframe\">\n",
       "  <thead>\n",
       "    <tr style=\"text-align: right;\">\n",
       "      <th></th>\n",
       "      <th>id</th>\n",
       "      <th>text</th>\n",
       "      <th>language</th>\n",
       "    </tr>\n",
       "  </thead>\n",
       "  <tbody>\n",
       "    <tr>\n",
       "      <th>0</th>\n",
       "      <td>0</td>\n",
       "      <td>Otra fotito porque pues #amor ??  WEBSITE2018</td>\n",
       "      <td>SPA</td>\n",
       "    </tr>\n",
       "    <tr>\n",
       "      <th>1</th>\n",
       "      <td>1</td>\n",
       "      <td>@USER    @USER  タイタニック２号、２０２２年に旧航路で出航へ #旅行 #歴史...</td>\n",
       "      <td>JAPANESE</td>\n",
       "    </tr>\n",
       "    <tr>\n",
       "      <th>2</th>\n",
       "      <td>2</td>\n",
       "      <td>Que o Eterno nos livre do mal, ilumine nosso c...</td>\n",
       "      <td>PORTUGUESE</td>\n",
       "    </tr>\n",
       "    <tr>\n",
       "      <th>3</th>\n",
       "      <td>3</td>\n",
       "      <td>@USER    @USER  The Beautiful #KajalAggarwal #...</td>\n",
       "      <td>ENGLISH</td>\n",
       "    </tr>\n",
       "    <tr>\n",
       "      <th>4</th>\n",
       "      <td>4</td>\n",
       "      <td>@USER    @USER  This is my painting \"Gazing ...</td>\n",
       "      <td>EN</td>\n",
       "    </tr>\n",
       "  </tbody>\n",
       "</table>\n",
       "</div>"
      ],
      "text/plain": [
       "   id                                               text    language\n",
       "0   0     Otra fotito porque pues #amor ??  WEBSITE2018          SPA\n",
       "1   1  @USER    @USER  タイタニック２号、２０２２年に旧航路で出航へ #旅行 #歴史...    JAPANESE\n",
       "2   2  Que o Eterno nos livre do mal, ilumine nosso c...  PORTUGUESE\n",
       "3   3  @USER    @USER  The Beautiful #KajalAggarwal #...     ENGLISH\n",
       "4   4    @USER    @USER  This is my painting \"Gazing ...          EN"
      ]
     },
     "execution_count": 4,
     "metadata": {},
     "output_type": "execute_result"
    }
   ],
   "source": [
    "train_data.head()"
   ]
  },
  {
   "cell_type": "code",
   "execution_count": 5,
   "metadata": {},
   "outputs": [
    {
     "data": {
      "text/html": [
       "<div>\n",
       "<style scoped>\n",
       "    .dataframe tbody tr th:only-of-type {\n",
       "        vertical-align: middle;\n",
       "    }\n",
       "\n",
       "    .dataframe tbody tr th {\n",
       "        vertical-align: top;\n",
       "    }\n",
       "\n",
       "    .dataframe thead th {\n",
       "        text-align: right;\n",
       "    }\n",
       "</style>\n",
       "<table border=\"1\" class=\"dataframe\">\n",
       "  <thead>\n",
       "    <tr style=\"text-align: right;\">\n",
       "      <th></th>\n",
       "      <th>id</th>\n",
       "      <th>text</th>\n",
       "    </tr>\n",
       "  </thead>\n",
       "  <tbody>\n",
       "    <tr>\n",
       "      <th>0</th>\n",
       "      <td>0</td>\n",
       "      <td>Code promo Madeleine-Mode -CHF 50.- sur toute ...</td>\n",
       "    </tr>\n",
       "    <tr>\n",
       "      <th>1</th>\n",
       "      <td>1</td>\n",
       "      <td>@USER    @USER  Die erste und grösste #Schne...</td>\n",
       "    </tr>\n",
       "    <tr>\n",
       "      <th>2</th>\n",
       "      <td>2</td>\n",
       "      <td>@USER    @USER  Naturgärten anlegen und plan...</td>\n",
       "    </tr>\n",
       "    <tr>\n",
       "      <th>3</th>\n",
       "      <td>3</td>\n",
       "      <td>GRACIAS! Maravilloso proyecto #insideoutmalaga...</td>\n",
       "    </tr>\n",
       "    <tr>\n",
       "      <th>4</th>\n",
       "      <td>4</td>\n",
       "      <td>@USER  Hoffe deine Tarnung drüben fliegt niema...</td>\n",
       "    </tr>\n",
       "  </tbody>\n",
       "</table>\n",
       "</div>"
      ],
      "text/plain": [
       "   id                                               text\n",
       "0   0  Code promo Madeleine-Mode -CHF 50.- sur toute ...\n",
       "1   1    @USER    @USER  Die erste und grösste #Schne...\n",
       "2   2    @USER    @USER  Naturgärten anlegen und plan...\n",
       "3   3  GRACIAS! Maravilloso proyecto #insideoutmalaga...\n",
       "4   4  @USER  Hoffe deine Tarnung drüben fliegt niema..."
      ]
     },
     "execution_count": 5,
     "metadata": {},
     "output_type": "execute_result"
    }
   ],
   "source": [
    "test_data.head()"
   ]
  },
  {
   "cell_type": "code",
   "execution_count": 6,
   "metadata": {},
   "outputs": [],
   "source": [
    "test_data[\"language\"] = np.nan"
   ]
  },
  {
   "cell_type": "code",
   "execution_count": 7,
   "metadata": {},
   "outputs": [
    {
     "data": {
      "text/html": [
       "<div>\n",
       "<style scoped>\n",
       "    .dataframe tbody tr th:only-of-type {\n",
       "        vertical-align: middle;\n",
       "    }\n",
       "\n",
       "    .dataframe tbody tr th {\n",
       "        vertical-align: top;\n",
       "    }\n",
       "\n",
       "    .dataframe thead th {\n",
       "        text-align: right;\n",
       "    }\n",
       "</style>\n",
       "<table border=\"1\" class=\"dataframe\">\n",
       "  <thead>\n",
       "    <tr style=\"text-align: right;\">\n",
       "      <th></th>\n",
       "      <th>id</th>\n",
       "      <th>text</th>\n",
       "      <th>language</th>\n",
       "    </tr>\n",
       "  </thead>\n",
       "  <tbody>\n",
       "    <tr>\n",
       "      <th>0</th>\n",
       "      <td>0</td>\n",
       "      <td>Code promo Madeleine-Mode -CHF 50.- sur toute ...</td>\n",
       "      <td>NaN</td>\n",
       "    </tr>\n",
       "    <tr>\n",
       "      <th>1</th>\n",
       "      <td>1</td>\n",
       "      <td>@USER    @USER  Die erste und grösste #Schne...</td>\n",
       "      <td>NaN</td>\n",
       "    </tr>\n",
       "    <tr>\n",
       "      <th>2</th>\n",
       "      <td>2</td>\n",
       "      <td>@USER    @USER  Naturgärten anlegen und plan...</td>\n",
       "      <td>NaN</td>\n",
       "    </tr>\n",
       "    <tr>\n",
       "      <th>3</th>\n",
       "      <td>3</td>\n",
       "      <td>GRACIAS! Maravilloso proyecto #insideoutmalaga...</td>\n",
       "      <td>NaN</td>\n",
       "    </tr>\n",
       "    <tr>\n",
       "      <th>4</th>\n",
       "      <td>4</td>\n",
       "      <td>@USER  Hoffe deine Tarnung drüben fliegt niema...</td>\n",
       "      <td>NaN</td>\n",
       "    </tr>\n",
       "  </tbody>\n",
       "</table>\n",
       "</div>"
      ],
      "text/plain": [
       "   id                                               text  language\n",
       "0   0  Code promo Madeleine-Mode -CHF 50.- sur toute ...       NaN\n",
       "1   1    @USER    @USER  Die erste und grösste #Schne...       NaN\n",
       "2   2    @USER    @USER  Naturgärten anlegen und plan...       NaN\n",
       "3   3  GRACIAS! Maravilloso proyecto #insideoutmalaga...       NaN\n",
       "4   4  @USER  Hoffe deine Tarnung drüben fliegt niema...       NaN"
      ]
     },
     "execution_count": 7,
     "metadata": {},
     "output_type": "execute_result"
    }
   ],
   "source": [
    "test_data.head()"
   ]
  },
  {
   "cell_type": "code",
   "execution_count": 9,
   "metadata": {},
   "outputs": [
    {
     "data": {
      "text/plain": [
       "array(['SPA', 'JAPANESE', 'PORTUGUESE', 'ENGLISH', 'EN', 'GER', 'ITA',\n",
       "       'GERMAN', 'ENG', 'FRA', 'POR', 'ITALIAN', 'PT', 'FR', 'JA', 'JAP',\n",
       "       'FRENCH', 'SPANISH', 'IT', 'ES', 'DE'], dtype=object)"
      ]
     },
     "execution_count": 9,
     "metadata": {},
     "output_type": "execute_result"
    }
   ],
   "source": [
    "train_data.language.unique()"
   ]
  },
  {
   "cell_type": "code",
   "execution_count": 10,
   "metadata": {},
   "outputs": [],
   "source": [
    "language_data = ['ENGLISH','FRENCH','GERMAN','PORTUGESE','SPANISH','JAPANESE','ITALIAN']"
   ]
  },
  {
   "cell_type": "markdown",
   "metadata": {},
   "source": [
    "#### Normalising the langauge values in the training file to single language attributing word"
   ]
  },
  {
   "cell_type": "code",
   "execution_count": 12,
   "metadata": {},
   "outputs": [],
   "source": [
    "train_data.loc[train_data.language.str.startswith(\"EN\"), \"language\"] = \"ENGLISH\"\n",
    "train_data.loc[train_data.language.str.startswith(\"FR\"), \"language\"] = \"FRENCH\"\n",
    "train_data.loc[train_data.language.str.startswith(\"GE\"), \"language\"] = \"GERMAN\"\n",
    "train_data.loc[train_data.language.str.startswith(\"PO\"), \"language\"] = \"PORTUGESE\"\n",
    "train_data.loc[train_data.language.str.startswith(\"SP\"), \"language\"] = \"SPANISH\"\n",
    "train_data.loc[train_data.language.str.startswith(\"JA\"), \"language\"] = \"JAPANESE\"\n",
    "train_data.loc[train_data.language.str.startswith(\"IT\"), \"language\"] = \"ITALIAN\"\n",
    "train_data.loc[train_data.language.str.startswith(\"PT\"), \"language\"] = \"PORTUGESE\"\n",
    "train_data.loc[train_data.language.str.startswith(\"ES\"), \"language\"] = \"SPANISH\"\n",
    "train_data.loc[train_data.language.str.startswith(\"DE\"), \"language\"] = \"GERMAN\""
   ]
  },
  {
   "cell_type": "code",
   "execution_count": 13,
   "metadata": {},
   "outputs": [
    {
     "data": {
      "text/plain": [
       "array(['SPANISH', 'JAPANESE', 'PORTUGESE', 'ENGLISH', 'GERMAN', 'ITALIAN',\n",
       "       'FRENCH'], dtype=object)"
      ]
     },
     "execution_count": 13,
     "metadata": {},
     "output_type": "execute_result"
    }
   ],
   "source": [
    "train_data.language.unique()"
   ]
  },
  {
   "cell_type": "markdown",
   "metadata": {},
   "source": [
    "#### Removed the nametags, hashtags, punctuations and smileys from the twitter feed for both train and test files"
   ]
  },
  {
   "cell_type": "code",
   "execution_count": 14,
   "metadata": {},
   "outputs": [],
   "source": [
    "train_data[\"text\"] = train_data[\"text\"].str.replace(\"(@[A-Za-z0-9]+)\",\"\")\n",
    "train_data[\"text\"] = train_data[\"text\"].str.replace(\"(#[A-Za-z0-9]+)\",\"\")\n",
    "train_data[\"text\"] = train_data[\"text\"].str.replace(\"[{}]\".format(string.punctuation), '')\n",
    "train_data[\"text\"] = train_data[\"text\"].str.strip()\n",
    "train_data[\"text\"] = train_data[\"text\"].str.replace(\"[^\\w\\s#@/:%.,_-]\", \"\", flags=re.UNICODE)\n",
    "train_data = train_data.apply(lambda x: x.str.strip() if x.dtype == \"object\" else x)\n",
    "\n",
    "\n",
    "test_data[\"text\"] = test_data[\"text\"].str.replace(\"(@[A-Za-z0-9]+)\",\"\")\n",
    "test_data[\"text\"] = test_data[\"text\"].str.replace(\"(#[A-Za-z0-9]+)\",\"\")\n",
    "test_data[\"text\"] = test_data[\"text\"].str.replace(\"[{}]\".format(string.punctuation), '')\n",
    "test_data[\"text\"] = test_data[\"text\"].str.strip()\n",
    "test_data[\"text\"] = test_data[\"text\"].str.replace(\"[^\\w\\s#@/:%.,_-]\", \"\", flags=re.UNICODE)\n",
    "test_data = test_data.apply(lambda x: x.str.strip() if x.dtype == \"object\" else x)"
   ]
  },
  {
   "cell_type": "code",
   "execution_count": 15,
   "metadata": {},
   "outputs": [
    {
     "data": {
      "text/html": [
       "<div>\n",
       "<style scoped>\n",
       "    .dataframe tbody tr th:only-of-type {\n",
       "        vertical-align: middle;\n",
       "    }\n",
       "\n",
       "    .dataframe tbody tr th {\n",
       "        vertical-align: top;\n",
       "    }\n",
       "\n",
       "    .dataframe thead th {\n",
       "        text-align: right;\n",
       "    }\n",
       "</style>\n",
       "<table border=\"1\" class=\"dataframe\">\n",
       "  <thead>\n",
       "    <tr style=\"text-align: right;\">\n",
       "      <th></th>\n",
       "      <th>id</th>\n",
       "      <th>text</th>\n",
       "      <th>language</th>\n",
       "    </tr>\n",
       "  </thead>\n",
       "  <tbody>\n",
       "    <tr>\n",
       "      <th>0</th>\n",
       "      <td>0</td>\n",
       "      <td>Otra fotito porque pues    WEBSITE2018</td>\n",
       "      <td>SPANISH</td>\n",
       "    </tr>\n",
       "    <tr>\n",
       "      <th>1</th>\n",
       "      <td>1</td>\n",
       "      <td>タイタニック２号２０２２年に旧航路で出航へ 旅行 歴史  WEBSITE2018</td>\n",
       "      <td>JAPANESE</td>\n",
       "    </tr>\n",
       "    <tr>\n",
       "      <th>2</th>\n",
       "      <td>2</td>\n",
       "      <td>Que o Eterno nos livre do mal ilumine nosso ca...</td>\n",
       "      <td>PORTUGESE</td>\n",
       "    </tr>\n",
       "    <tr>\n",
       "      <th>3</th>\n",
       "      <td>3</td>\n",
       "      <td>The Beautiful         WEBSITE2018</td>\n",
       "      <td>ENGLISH</td>\n",
       "    </tr>\n",
       "    <tr>\n",
       "      <th>4</th>\n",
       "      <td>4</td>\n",
       "      <td>This is my painting Gazing Along The Hills You...</td>\n",
       "      <td>ENGLISH</td>\n",
       "    </tr>\n",
       "  </tbody>\n",
       "</table>\n",
       "</div>"
      ],
      "text/plain": [
       "   id                                               text   language\n",
       "0   0             Otra fotito porque pues    WEBSITE2018    SPANISH\n",
       "1   1           タイタニック２号２０２２年に旧航路で出航へ 旅行 歴史  WEBSITE2018   JAPANESE\n",
       "2   2  Que o Eterno nos livre do mal ilumine nosso ca...  PORTUGESE\n",
       "3   3                  The Beautiful         WEBSITE2018    ENGLISH\n",
       "4   4  This is my painting Gazing Along The Hills You...    ENGLISH"
      ]
     },
     "execution_count": 15,
     "metadata": {},
     "output_type": "execute_result"
    }
   ],
   "source": [
    "train_data.head()"
   ]
  },
  {
   "cell_type": "code",
   "execution_count": 16,
   "metadata": {},
   "outputs": [
    {
     "data": {
      "text/html": [
       "<div>\n",
       "<style scoped>\n",
       "    .dataframe tbody tr th:only-of-type {\n",
       "        vertical-align: middle;\n",
       "    }\n",
       "\n",
       "    .dataframe tbody tr th {\n",
       "        vertical-align: top;\n",
       "    }\n",
       "\n",
       "    .dataframe thead th {\n",
       "        text-align: right;\n",
       "    }\n",
       "</style>\n",
       "<table border=\"1\" class=\"dataframe\">\n",
       "  <thead>\n",
       "    <tr style=\"text-align: right;\">\n",
       "      <th></th>\n",
       "      <th>id</th>\n",
       "      <th>text</th>\n",
       "      <th>language</th>\n",
       "    </tr>\n",
       "  </thead>\n",
       "  <tbody>\n",
       "    <tr>\n",
       "      <th>0</th>\n",
       "      <td>0</td>\n",
       "      <td>Code promo MadeleineMode CHF 50 sur toute la b...</td>\n",
       "      <td>NaN</td>\n",
       "    </tr>\n",
       "    <tr>\n",
       "      <th>1</th>\n",
       "      <td>1</td>\n",
       "      <td>Die erste und grösste  der Schweiz gehört Armi...</td>\n",
       "      <td>NaN</td>\n",
       "    </tr>\n",
       "    <tr>\n",
       "      <th>2</th>\n",
       "      <td>2</td>\n",
       "      <td>Naturgärten anlegen und planen  Auch für das ö...</td>\n",
       "      <td>NaN</td>\n",
       "    </tr>\n",
       "    <tr>\n",
       "      <th>3</th>\n",
       "      <td>3</td>\n",
       "      <td>GRACIAS Maravilloso proyecto  que ha llegado a...</td>\n",
       "      <td>NaN</td>\n",
       "    </tr>\n",
       "    <tr>\n",
       "      <th>4</th>\n",
       "      <td>4</td>\n",
       "      <td>Hoffe deine Tarnung drüben fliegt niemals auf</td>\n",
       "      <td>NaN</td>\n",
       "    </tr>\n",
       "  </tbody>\n",
       "</table>\n",
       "</div>"
      ],
      "text/plain": [
       "   id                                               text  language\n",
       "0   0  Code promo MadeleineMode CHF 50 sur toute la b...       NaN\n",
       "1   1  Die erste und grösste  der Schweiz gehört Armi...       NaN\n",
       "2   2  Naturgärten anlegen und planen  Auch für das ö...       NaN\n",
       "3   3  GRACIAS Maravilloso proyecto  que ha llegado a...       NaN\n",
       "4   4      Hoffe deine Tarnung drüben fliegt niemals auf       NaN"
      ]
     },
     "execution_count": 16,
     "metadata": {},
     "output_type": "execute_result"
    }
   ],
   "source": [
    "test_data.head()"
   ]
  },
  {
   "cell_type": "markdown",
   "metadata": {},
   "source": [
    "#### Split the words in the training file of twitter feed to list of words"
   ]
  },
  {
   "cell_type": "code",
   "execution_count": 17,
   "metadata": {},
   "outputs": [],
   "source": [
    "train_data[\"string\"] = train_data[\"text\"].str.split(\" \")"
   ]
  },
  {
   "cell_type": "markdown",
   "metadata": {},
   "source": [
    "#### From the training dataset, create list of words attributed to different languages to help in test data detection "
   ]
  },
  {
   "cell_type": "code",
   "execution_count": 18,
   "metadata": {},
   "outputs": [],
   "source": [
    "english = pd.Series(train_data.string.where(train_data[\"language\"] == \"ENGLISH\")).dropna()\n",
    "merge_english = english[:].values.tolist()\n",
    "merge_english = [item for sublist in merge_english for item in sublist]\n",
    "\n",
    "french = pd.Series(train_data.string.where(train_data[\"language\"] == \"FRENCH\")).dropna()\n",
    "merge_french = french[:].values.tolist()\n",
    "merge_french = [item for sublist in merge_french for item in sublist]\n",
    "\n",
    "german = pd.Series(train_data.string.where(train_data[\"language\"] == \"GERMAN\")).dropna()\n",
    "merge_german = german[:].values.tolist()\n",
    "merge_german = [item for sublist in merge_german for item in sublist]\n",
    "\n",
    "italian = pd.Series(train_data.string.where(train_data[\"language\"] == \"ITALIAN\")).dropna()\n",
    "merge_italian = italian[:].values.tolist()\n",
    "merge_italian = [item for sublist in merge_italian for item in sublist]\n",
    "\n",
    "portugese = pd.Series(train_data.string.where(train_data[\"language\"] == \"PORTUGESE\")).dropna()\n",
    "merge_portugese = portugese[:].values.tolist()\n",
    "merge_portugese = [item for sublist in merge_portugese for item in sublist] \n",
    "\n",
    "spanish = pd.Series(train_data.string.where(train_data[\"language\"] == \"SPANISH\")).dropna()\n",
    "merge_spanish = spanish[:].values.tolist()\n",
    "merge_spanish = [item for sublist in merge_spanish for item in sublist] \n",
    "\n",
    "japanese = pd.Series(train_data.string.where(train_data[\"language\"] == \"JAPANESE\")).dropna()\n",
    "merge_japanese = japanese[:].values.tolist()\n",
    "merge_japanese = [item for sublist in merge_japanese for item in sublist] "
   ]
  },
  {
   "cell_type": "code",
   "execution_count": 19,
   "metadata": {},
   "outputs": [],
   "source": [
    "most_rated_language = string"
   ]
  },
  {
   "cell_type": "markdown",
   "metadata": {},
   "source": [
    "#### Tokenize each twitter feed from the test data and find an intersection with the set of identified words attributed to particular language in [18] command.\n",
    "\n",
    "#### Then find the ratio of words of each language in the twitter feed, then attribute the tweet to the language with highest ratio"
   ]
  },
  {
   "cell_type": "code",
   "execution_count": 20,
   "metadata": {},
   "outputs": [
    {
     "name": "stderr",
     "output_type": "stream",
     "text": [
      "C:\\ProgramData\\Anaconda3\\lib\\site-packages\\pandas\\core\\indexing.py:189: SettingWithCopyWarning: \n",
      "A value is trying to be set on a copy of a slice from a DataFrame\n",
      "\n",
      "See the caveats in the documentation: http://pandas.pydata.org/pandas-docs/stable/indexing.html#indexing-view-versus-copy\n",
      "  self._setitem_with_indexer(indexer, value)\n"
     ]
    }
   ],
   "source": [
    "for index, row in test_data.iterrows():\n",
    "     \n",
    "    f = wordpunct_tokenize(row[\"text\"])\n",
    "    words = (word.lower() for word in f)\n",
    "    language_ratio = {}\n",
    "\n",
    "    language = {\"ENGLISH\" : merge_english, \"FRENCH\" : merge_french, \"GERMAN\" : merge_german, \"ITALIAN\" : merge_italian, \"PORTUGESE\" : merge_portugese, \"SPANISH\" : merge_spanish, \"JAPANESE\" : merge_japanese}\n",
    "\n",
    "    stopwordSet_english = set(merge_english)\n",
    "    stopwordSet_french = set(merge_french)\n",
    "    stopwordSet_german = set(merge_german)\n",
    "    stopwordSet_italian = set(merge_italian)\n",
    "    stopwordSet_portugese = set(merge_portugese)\n",
    "    stopwordSet_spanish = set(merge_spanish)\n",
    "    stopwordSet_japanese = set(merge_japanese)\n",
    "\n",
    "    word_set = set(words)\n",
    "\n",
    "    common_elements_english = word_set.intersection(stopwordSet_english)\n",
    "    common_elements_french = word_set.intersection(stopwordSet_french)\n",
    "    common_elements_german = word_set.intersection(stopwordSet_german)\n",
    "    common_elements_italian = word_set.intersection(stopwordSet_italian)\n",
    "    common_elements_portugese = word_set.intersection(stopwordSet_portugese)\n",
    "    common_elements_spanish = word_set.intersection(stopwordSet_spanish)\n",
    "    common_elements_japanese = word_set.intersection(stopwordSet_japanese)\n",
    "\n",
    "    language_ratio[\"ENGLISH\"] = len(common_elements_english)\n",
    "    language_ratio[\"FRENCH\"] = len(common_elements_french)\n",
    "    language_ratio[\"GERMAN\"] = len(common_elements_german)\n",
    "    language_ratio[\"ITALIAN\"] = len(common_elements_italian)\n",
    "    language_ratio[\"PORTUGESE\"] = len(common_elements_portugese)\n",
    "    language_ratio[\"SPANISH\"] = len(common_elements_spanish)\n",
    "    language_ratio[\"JAPANESE\"] = len(common_elements_japanese)\n",
    "\n",
    "    most_rated_language = str( max(language_ratio, key = language_ratio.get))\n",
    "    #print(most_rated_language)\n",
    "    test_data.language.iloc[index] = most_rated_language"
   ]
  },
  {
   "cell_type": "markdown",
   "metadata": {},
   "source": [
    "#### Test Data with identified language with the help of training data"
   ]
  },
  {
   "cell_type": "code",
   "execution_count": 21,
   "metadata": {
    "scrolled": true
   },
   "outputs": [
    {
     "data": {
      "text/html": [
       "<div>\n",
       "<style scoped>\n",
       "    .dataframe tbody tr th:only-of-type {\n",
       "        vertical-align: middle;\n",
       "    }\n",
       "\n",
       "    .dataframe tbody tr th {\n",
       "        vertical-align: top;\n",
       "    }\n",
       "\n",
       "    .dataframe thead th {\n",
       "        text-align: right;\n",
       "    }\n",
       "</style>\n",
       "<table border=\"1\" class=\"dataframe\">\n",
       "  <thead>\n",
       "    <tr style=\"text-align: right;\">\n",
       "      <th></th>\n",
       "      <th>id</th>\n",
       "      <th>text</th>\n",
       "      <th>language</th>\n",
       "    </tr>\n",
       "  </thead>\n",
       "  <tbody>\n",
       "    <tr>\n",
       "      <th>0</th>\n",
       "      <td>0</td>\n",
       "      <td>Code promo MadeleineMode CHF 50 sur toute la b...</td>\n",
       "      <td>FRENCH</td>\n",
       "    </tr>\n",
       "    <tr>\n",
       "      <th>1</th>\n",
       "      <td>1</td>\n",
       "      <td>Die erste und grösste  der Schweiz gehört Armi...</td>\n",
       "      <td>GERMAN</td>\n",
       "    </tr>\n",
       "    <tr>\n",
       "      <th>2</th>\n",
       "      <td>2</td>\n",
       "      <td>Naturgärten anlegen und planen  Auch für das ö...</td>\n",
       "      <td>GERMAN</td>\n",
       "    </tr>\n",
       "    <tr>\n",
       "      <th>3</th>\n",
       "      <td>3</td>\n",
       "      <td>GRACIAS Maravilloso proyecto  que ha llegado a...</td>\n",
       "      <td>SPANISH</td>\n",
       "    </tr>\n",
       "    <tr>\n",
       "      <th>4</th>\n",
       "      <td>4</td>\n",
       "      <td>Hoffe deine Tarnung drüben fliegt niemals auf</td>\n",
       "      <td>GERMAN</td>\n",
       "    </tr>\n",
       "  </tbody>\n",
       "</table>\n",
       "</div>"
      ],
      "text/plain": [
       "   id                                               text language\n",
       "0   0  Code promo MadeleineMode CHF 50 sur toute la b...   FRENCH\n",
       "1   1  Die erste und grösste  der Schweiz gehört Armi...   GERMAN\n",
       "2   2  Naturgärten anlegen und planen  Auch für das ö...   GERMAN\n",
       "3   3  GRACIAS Maravilloso proyecto  que ha llegado a...  SPANISH\n",
       "4   4      Hoffe deine Tarnung drüben fliegt niemals auf   GERMAN"
      ]
     },
     "execution_count": 21,
     "metadata": {},
     "output_type": "execute_result"
    }
   ],
   "source": [
    "test_data.head()"
   ]
  },
  {
   "cell_type": "code",
   "execution_count": 22,
   "metadata": {},
   "outputs": [],
   "source": [
    "result = test_data[[\"id\",\"language\"]]\n",
    "result[\"label\"] = np.nan"
   ]
  },
  {
   "cell_type": "code",
   "execution_count": 23,
   "metadata": {},
   "outputs": [
    {
     "data": {
      "text/html": [
       "<div>\n",
       "<style scoped>\n",
       "    .dataframe tbody tr th:only-of-type {\n",
       "        vertical-align: middle;\n",
       "    }\n",
       "\n",
       "    .dataframe tbody tr th {\n",
       "        vertical-align: top;\n",
       "    }\n",
       "\n",
       "    .dataframe thead th {\n",
       "        text-align: right;\n",
       "    }\n",
       "</style>\n",
       "<table border=\"1\" class=\"dataframe\">\n",
       "  <thead>\n",
       "    <tr style=\"text-align: right;\">\n",
       "      <th></th>\n",
       "      <th>id</th>\n",
       "      <th>language</th>\n",
       "      <th>label</th>\n",
       "    </tr>\n",
       "  </thead>\n",
       "  <tbody>\n",
       "    <tr>\n",
       "      <th>0</th>\n",
       "      <td>0</td>\n",
       "      <td>FRENCH</td>\n",
       "      <td>NaN</td>\n",
       "    </tr>\n",
       "    <tr>\n",
       "      <th>1</th>\n",
       "      <td>1</td>\n",
       "      <td>GERMAN</td>\n",
       "      <td>NaN</td>\n",
       "    </tr>\n",
       "    <tr>\n",
       "      <th>2</th>\n",
       "      <td>2</td>\n",
       "      <td>GERMAN</td>\n",
       "      <td>NaN</td>\n",
       "    </tr>\n",
       "    <tr>\n",
       "      <th>3</th>\n",
       "      <td>3</td>\n",
       "      <td>SPANISH</td>\n",
       "      <td>NaN</td>\n",
       "    </tr>\n",
       "    <tr>\n",
       "      <th>4</th>\n",
       "      <td>4</td>\n",
       "      <td>GERMAN</td>\n",
       "      <td>NaN</td>\n",
       "    </tr>\n",
       "  </tbody>\n",
       "</table>\n",
       "</div>"
      ],
      "text/plain": [
       "   id language  label\n",
       "0   0   FRENCH    NaN\n",
       "1   1   GERMAN    NaN\n",
       "2   2   GERMAN    NaN\n",
       "3   3  SPANISH    NaN\n",
       "4   4   GERMAN    NaN"
      ]
     },
     "execution_count": 23,
     "metadata": {},
     "output_type": "execute_result"
    }
   ],
   "source": [
    "result.head()"
   ]
  },
  {
   "cell_type": "code",
   "execution_count": 24,
   "metadata": {},
   "outputs": [
    {
     "data": {
      "text/html": [
       "<div>\n",
       "<style scoped>\n",
       "    .dataframe tbody tr th:only-of-type {\n",
       "        vertical-align: middle;\n",
       "    }\n",
       "\n",
       "    .dataframe tbody tr th {\n",
       "        vertical-align: top;\n",
       "    }\n",
       "\n",
       "    .dataframe thead th {\n",
       "        text-align: right;\n",
       "    }\n",
       "</style>\n",
       "<table border=\"1\" class=\"dataframe\">\n",
       "  <thead>\n",
       "    <tr style=\"text-align: right;\">\n",
       "      <th></th>\n",
       "      <th>id</th>\n",
       "      <th>label</th>\n",
       "    </tr>\n",
       "  </thead>\n",
       "  <tbody>\n",
       "    <tr>\n",
       "      <th>0</th>\n",
       "      <td>0</td>\n",
       "      <td>2.0</td>\n",
       "    </tr>\n",
       "    <tr>\n",
       "      <th>1</th>\n",
       "      <td>1</td>\n",
       "      <td>3.0</td>\n",
       "    </tr>\n",
       "    <tr>\n",
       "      <th>2</th>\n",
       "      <td>2</td>\n",
       "      <td>3.0</td>\n",
       "    </tr>\n",
       "    <tr>\n",
       "      <th>3</th>\n",
       "      <td>3</td>\n",
       "      <td>6.0</td>\n",
       "    </tr>\n",
       "    <tr>\n",
       "      <th>4</th>\n",
       "      <td>4</td>\n",
       "      <td>3.0</td>\n",
       "    </tr>\n",
       "  </tbody>\n",
       "</table>\n",
       "</div>"
      ],
      "text/plain": [
       "   id  label\n",
       "0   0    2.0\n",
       "1   1    3.0\n",
       "2   2    3.0\n",
       "3   3    6.0\n",
       "4   4    3.0"
      ]
     },
     "execution_count": 24,
     "metadata": {},
     "output_type": "execute_result"
    }
   ],
   "source": [
    "result.loc[result.language.isin([\"ENGLISH\"]), \"label\"] = 1\n",
    "result.loc[result.language.isin([\"FRENCH\"]), \"label\"] = 2\n",
    "result.loc[result.language.isin([\"GERMAN\"]), \"label\"] = 3\n",
    "result.loc[result.language.isin([\"ITALIAN\"]), \"label\"] = 4\n",
    "result.loc[result.language.isin([\"PORTUGESE\"]), \"label\"] = 5\n",
    "result.loc[result.language.isin([\"SPANISH\"]), \"label\"] = 6\n",
    "result.loc[result.language.isin([\"JAPANESE\"]), \"label\"] = 7\n",
    "\n",
    "del result[\"language\"]\n",
    "result.head()"
   ]
  },
  {
   "cell_type": "markdown",
   "metadata": {},
   "source": [
    "Required format of test data"
   ]
  },
  {
   "cell_type": "code",
   "execution_count": 25,
   "metadata": {},
   "outputs": [
    {
     "data": {
      "text/html": [
       "<div>\n",
       "<style scoped>\n",
       "    .dataframe tbody tr th:only-of-type {\n",
       "        vertical-align: middle;\n",
       "    }\n",
       "\n",
       "    .dataframe tbody tr th {\n",
       "        vertical-align: top;\n",
       "    }\n",
       "\n",
       "    .dataframe thead th {\n",
       "        text-align: right;\n",
       "    }\n",
       "</style>\n",
       "<table border=\"1\" class=\"dataframe\">\n",
       "  <thead>\n",
       "    <tr style=\"text-align: right;\">\n",
       "      <th></th>\n",
       "      <th>id</th>\n",
       "      <th>label</th>\n",
       "    </tr>\n",
       "  </thead>\n",
       "  <tbody>\n",
       "    <tr>\n",
       "      <th>0</th>\n",
       "      <td>0</td>\n",
       "      <td>2</td>\n",
       "    </tr>\n",
       "    <tr>\n",
       "      <th>1</th>\n",
       "      <td>1</td>\n",
       "      <td>3</td>\n",
       "    </tr>\n",
       "    <tr>\n",
       "      <th>2</th>\n",
       "      <td>2</td>\n",
       "      <td>3</td>\n",
       "    </tr>\n",
       "    <tr>\n",
       "      <th>3</th>\n",
       "      <td>3</td>\n",
       "      <td>6</td>\n",
       "    </tr>\n",
       "    <tr>\n",
       "      <th>4</th>\n",
       "      <td>4</td>\n",
       "      <td>3</td>\n",
       "    </tr>\n",
       "  </tbody>\n",
       "</table>\n",
       "</div>"
      ],
      "text/plain": [
       "   id  label\n",
       "0   0      2\n",
       "1   1      3\n",
       "2   2      3\n",
       "3   3      6\n",
       "4   4      3"
      ]
     },
     "execution_count": 25,
     "metadata": {},
     "output_type": "execute_result"
    }
   ],
   "source": [
    "result.label = result.label.astype(int)\n",
    "result.head()"
   ]
  },
  {
   "cell_type": "code",
   "execution_count": null,
   "metadata": {},
   "outputs": [],
   "source": [
    "result.to_csv(\"C:/Users/tripa/OneDrive/Desktop/AIB Datathon/langauge_final.csv\", index = False)"
   ]
  }
 ],
 "metadata": {
  "kernelspec": {
   "display_name": "Python 3",
   "language": "python",
   "name": "python3"
  },
  "language_info": {
   "codemirror_mode": {
    "name": "ipython",
    "version": 3
   },
   "file_extension": ".py",
   "mimetype": "text/x-python",
   "name": "python",
   "nbconvert_exporter": "python",
   "pygments_lexer": "ipython3",
   "version": "3.6.5"
  }
 },
 "nbformat": 4,
 "nbformat_minor": 2
}
